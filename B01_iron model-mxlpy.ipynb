{
 "cells": [
  {
   "cell_type": "markdown",
   "metadata": {},
   "source": [
    "# model 2(population dynamics)\n",
    "\n",
    "\n",
    "* $E(t)$: *E. coli* population\n",
    "* $C(t)$: *C. glutamicum* (Coryne) population\n",
    "\n",
    "$$\n",
    "\\frac{dE}{dt} = \\mu_E \\cdot a_E  \\cdot E - \\delta_E \\cdot E\n",
    "$$\n",
    "\n",
    "$$\n",
    "\\frac{dC}{dt} = \\mu_C \\cdot a_C  \\cdot C \\cdot \\left(1 - \\theta \\cdot C\\right) \n",
    "$$"
   ]
  },
  {
   "cell_type": "code",
   "execution_count": null,
   "metadata": {},
   "outputs": [],
   "source": [
    "import numpy as np\n",
    "import pandas as pd\n",
    "from mxlpy import Model, scan, plot, Simulator"
   ]
  },
  {
   "cell_type": "markdown",
   "metadata": {},
   "source": [
    "## Define model"
   ]
  },
  {
   "cell_type": "code",
   "execution_count": null,
   "metadata": {},
   "outputs": [],
   "source": [
    "from mxlpy.types import unwrap\n",
    "\n",
    "\n",
    "def v0(mu_e: float, a_e: float, e: float) -> float:\n",
    "    return mu_e * a_e * e\n",
    "\n",
    "\n",
    "def v1(delta_e: float, e: float) -> float:\n",
    "    return delta_e * e\n",
    "\n",
    "\n",
    "def v2(mu_c: float, a_c: float, c: float) -> float:\n",
    "    return mu_c * a_c * c\n",
    "\n",
    "\n",
    "def v3(v2: float, theta: float, c: float) -> float:\n",
    "    return v2 * theta * c\n",
    "\n",
    "\n",
    "def get_model_2() -> Model:\n",
    "    return (\n",
    "        Model()\n",
    "        .add_variables({\"E\": 5.0, \"C\": 5.0})\n",
    "        .add_parameters(\n",
    "            {\n",
    "                \"mu_e\": 0.4,\n",
    "                \"mu_c\": 0.3,\n",
    "                \"a_e\": 0.1,\n",
    "                \"a_c\": 0.1,\n",
    "                \"delta_e\": 0.1,\n",
    "                \"theta\": 0.001,\n",
    "            }\n",
    "        )\n",
    "        .add_reaction(\"v0\", v0, args=[\"mu_e\", \"a_e\", \"E\"], stoichiometry={\"E\": 1})\n",
    "        .add_reaction(\"v1\", v1, args=[\"delta_e\", \"E\"], stoichiometry={\"E\": -1})\n",
    "        .add_reaction(\"v2\", v2, args=[\"mu_c\", \"a_c\", \"C\"], stoichiometry={\"C\": 1})\n",
    "        .add_reaction(\"v3\", v3, args=[\"v2\", \"theta\", \"C\"], stoichiometry={\"C\": -1})\n",
    "    )\n",
    "\n",
    "\n",
    "scenarios = pd.DataFrame(\n",
    "    [\n",
    "        {\"a_e\": 1.0, \"a_c\": 0.3},\n",
    "        {\"a_e\": 0.9, \"a_c\": 0.4},\n",
    "        {\"a_e\": 0.8, \"a_c\": 0.5},\n",
    "        {\"a_e\": 0.7, \"a_c\": 0.6},\n",
    "        {\"a_e\": 0.4, \"a_c\": 0.8},\n",
    "        {\"a_e\": 0.3, \"a_c\": 1.0},\n",
    "    ]\n",
    ")\n"
   ]
  },
  {
   "cell_type": "markdown",
   "metadata": {},
   "source": [
    "## Run scan (v1)\n",
    "\n",
    "Here we use an explicit for loop to do the simulation.  \n",
    "This should be easier to read for the first time, but has a few disadvantages\n",
    "\n",
    "- the for loop is run sequentially, so you don't get any speed benefits from having more than 1 CPU core\n",
    "- if you use `simulate` instead of `simulate_time_course` it's easy to get mismatching time points, which make comparisons harder\n",
    "- you don't have access to previous simulation results (easy to fix though)\n",
    "- more verbose\n",
    "\n"
   ]
  },
  {
   "cell_type": "code",
   "execution_count": null,
   "metadata": {},
   "outputs": [],
   "source": [
    "fig, axs = plot.grid_layout(len(scenarios))\n",
    "for ax, (_, pars) in zip(axs, scenarios.iterrows()):\n",
    "    res = unwrap(\n",
    "        Simulator(get_model_2())\n",
    "        .update_parameters(pars.to_dict())\n",
    "        .simulate_time_course(np.linspace(0, 14, 11))\n",
    "        .get_result()\n",
    "    )\n",
    "    plot.lines(\n",
    "        res.variables,\n",
    "        xlabel=\"\",\n",
    "        ylabel=\"\",\n",
    "        ax=ax,\n",
    "    )\n",
    "    ax.set_title(\"a_E={}, a_C={}\".format(*pars))\n",
    "plot.grid_labels(axs, xlabel=\"Time / h\", ylabel=\"Population\")\n"
   ]
  },
  {
   "cell_type": "markdown",
   "metadata": {},
   "source": [
    "## Run scan (v2)\n",
    "\n",
    "To run this kind (and other kinds of scans for that matter), you can also use the functions supplied by the `scan` module.\n",
    "\n",
    "All these routines run in parallel automatically, and offer the possibility to cache long calculations using the `cache` argument.\n",
    "\n",
    "You can obtain the variables and fluxes with `.variables` and `.fluxes` respectively and check the parameters / initial conditions etc you put into the scan with `.to_scan`. \n",
    "\n",
    "You can also get aggregates over time or run (not super useful in your case using)\n",
    "\n",
    "```python\n",
    "res.get_agg_per_time(\"mean\")\n",
    "res.get_agg_per_run(\"mean\")\n",
    "```\n",
    "\n",
    "Challenges here:\n",
    "\n",
    "- You have to learn how to use a `pandas.MultiIndex` because the resulting dataframe will look something like this. But that's a nice thing to learn in general, it will pop up in all kinds of data analysis down the road\n",
    "  \n",
    "\n",
    "|              (n, time) |        E |       C |\n",
    "|:-----------------------|---------:|--------:|\n",
    "| (0, 0.0)               |  5       | 5       |\n",
    "| (0, 1.4)               |  7.60981 | 5.66761 |\n",
    "| (0, 2.8)               | 11.5818  | 6.42378 |\n",
    "| (0, 4.199999999999999) | 17.6271  | 7.28009 |\n",
    "| (0, 5.6)               | 26.8278  | 8.24962 |"
   ]
  },
  {
   "cell_type": "code",
   "execution_count": null,
   "metadata": {},
   "outputs": [],
   "source": [
    "res = scan.time_course(\n",
    "    get_model_2(),\n",
    "    to_scan=scenarios,\n",
    "    time_points=np.linspace(0, 14, 11),\n",
    ")\n",
    "\n",
    "fig, axs = plot.grid_layout(len(scenarios))\n",
    "for ax, (i, df) in zip(axs, res.variables.groupby(level=0)):\n",
    "    plot.lines(\n",
    "        df.droplevel(0).rename(columns={\"E\": \"E. coli\", \"C\": \"Coryne\"}),\n",
    "        ax=ax,\n",
    "        xlabel=\"\",\n",
    "        ylabel=\"\",\n",
    "    )\n",
    "    ax.set_title(\"a_E={}, a_C={}\".format(*res.to_scan.loc[i]))\n",
    "plot.grid_labels(axs, xlabel=\"Time / h\", ylabel=\"Population\")\n"
   ]
  },
  {
   "cell_type": "code",
   "execution_count": null,
   "metadata": {},
   "outputs": [],
   "source": []
  }
 ],
 "metadata": {
  "colab": {
   "provenance": []
  },
  "kernelspec": {
   "display_name": "b01-mibinet",
   "language": "python",
   "name": "python3"
  },
  "language_info": {
   "codemirror_mode": {
    "name": "ipython",
    "version": 3
   },
   "file_extension": ".py",
   "mimetype": "text/x-python",
   "name": "python",
   "nbconvert_exporter": "python",
   "pygments_lexer": "ipython3",
   "version": "3.13.5"
  }
 },
 "nbformat": 4,
 "nbformat_minor": 1
}
